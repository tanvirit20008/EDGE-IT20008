{
  "nbformat": 4,
  "nbformat_minor": 0,
  "metadata": {
    "colab": {
      "provenance": [],
      "authorship_tag": "ABX9TyOb53wEnG/3zTvBzaWHjc8R",
      "include_colab_link": true
    },
    "kernelspec": {
      "name": "python3",
      "display_name": "Python 3"
    },
    "language_info": {
      "name": "python"
    }
  },
  "cells": [
    {
      "cell_type": "markdown",
      "metadata": {
        "id": "view-in-github",
        "colab_type": "text"
      },
      "source": [
        "<a href=\"https://colab.research.google.com/github/tanvirit20008/EDGE-IT20008/blob/main/practice1.ipynb\" target=\"_parent\"><img src=\"https://colab.research.google.com/assets/colab-badge.svg\" alt=\"Open In Colab\"/></a>"
      ]
    },
    {
      "cell_type": "code",
      "source": [
        "words=['cat','window','defensestrate']\n",
        "for w in words:\n",
        "   print(w,len(w))"
      ],
      "metadata": {
        "id": "lUBQRrw3gjMs"
      },
      "execution_count": null,
      "outputs": []
    },
    {
      "cell_type": "code",
      "source": [
        "for w in words[:]:\n",
        "   if len(w)>6:\n",
        "      words.insert(len(words),\"NewWords\")\n",
        "\n",
        "for(i in range(len(words))) :\n",
        "   print(\"\\n\",words)\n",
        "    print(\"\\n\",words[i],end=\", \")\n",
        "\n"
      ],
      "metadata": {
        "id": "rnuNnTb7h3ga"
      },
      "execution_count": null,
      "outputs": []
    },
    {
      "cell_type": "code",
      "source": [
        "list"
      ],
      "metadata": {
        "id": "Mm5CqQFmpR5U"
      },
      "execution_count": null,
      "outputs": []
    }
  ]
}