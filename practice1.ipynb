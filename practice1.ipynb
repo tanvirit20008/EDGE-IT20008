{
  "nbformat": 4,
  "nbformat_minor": 0,
  "metadata": {
    "colab": {
      "provenance": [],
      "authorship_tag": "ABX9TyNRJWXgKtRVAooprO4USXWz",
      "include_colab_link": true
    },
    "kernelspec": {
      "name": "python3",
      "display_name": "Python 3"
    },
    "language_info": {
      "name": "python"
    }
  },
  "cells": [
    {
      "cell_type": "markdown",
      "metadata": {
        "id": "view-in-github",
        "colab_type": "text"
      },
      "source": [
        "<a href=\"https://colab.research.google.com/github/tanvirit20008/EDGE-IT20008/blob/main/practice1.ipynb\" target=\"_parent\"><img src=\"https://colab.research.google.com/assets/colab-badge.svg\" alt=\"Open In Colab\"/></a>"
      ]
    },
    {
      "cell_type": "code",
      "source": [
        "words=['cat','window','defensestrate']\n",
        "for w in words:\n",
        "   print(w,len(w))"
      ],
      "metadata": {
        "id": "lUBQRrw3gjMs"
      },
      "execution_count": null,
      "outputs": []
    },
    {
      "cell_type": "code",
      "source": [
        "for w in words[:]:\n",
        "   if len(w)>6:\n",
        "      words.insert(len(words),\"NewWords\")\n",
        "\n",
        "for(i in range(len(words))) :\n",
        "   print(\"\\n\",words)\n",
        "    print(\"\\n\",words[i],end=\", \")\n",
        "\n"
      ],
      "metadata": {
        "id": "rnuNnTb7h3ga"
      },
      "execution_count": null,
      "outputs": []
    },
    {
      "cell_type": "code",
      "source": [
        "def SeriesSum(n):\n",
        "    sum = n * (n + 1) // 2\n",
        "    return sum\n",
        "\n",
        "n = int(input(\"Enter the value of n: \"))\n",
        "\n",
        "\n",
        "print(\"The sum of the series is:\", SeriesSum(n))\n"
      ],
      "metadata": {
        "id": "Mm5CqQFmpR5U",
        "colab": {
          "base_uri": "https://localhost:8080/"
        },
        "outputId": "167d3b51-b22d-45c8-a1f3-ea3fa8e3d2b5"
      },
      "execution_count": 2,
      "outputs": [
        {
          "output_type": "stream",
          "name": "stdout",
          "text": [
            "Enter the value of n: 10\n",
            "The sum of the series is: 55\n"
          ]
        }
      ]
    }
  ]
}